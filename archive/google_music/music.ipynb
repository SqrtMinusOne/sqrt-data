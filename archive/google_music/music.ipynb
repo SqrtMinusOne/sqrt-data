{
 "cells": [
  {
   "cell_type": "code",
   "execution_count": null,
   "id": "1588c3b9",
   "metadata": {},
   "outputs": [],
   "source": [
    "import pandas as pd\n",
    "import json\n",
    "import os\n",
    "import numpy as np\n",
    "import difflib\n",
    "import re\n",
    "import sys\n",
    "\n",
    "sys.path.append('../..')\n",
    "\n",
    "from tqdm import tqdm\n",
    "from collections import deque, namedtuple\n",
    "\n",
    "from IPython.display import display"
   ]
  },
  {
   "cell_type": "markdown",
   "id": "b10847e4",
   "metadata": {},
   "source": [
    "# Listened log"
   ]
  },
  {
   "cell_type": "code",
   "execution_count": null,
   "id": "9eec4374",
   "metadata": {},
   "outputs": [],
   "source": [
    "DATA = './source/music.json'\n",
    "TRACKS = './source/tracks/'\n",
    "\n",
    "FIX_ARTISTS = {\n",
    "    'Tarja Turunen': 'Tarja',\n",
    "    'Thomas Bergersen': 'Two Steps from Hell',\n",
    "    'Томас Бергерсен': 'Two Steps from Hell',\n",
    "    'Two Steps from Hell & Thomas Bergersen': 'Two Steps from Hell',\n",
    "    'Tribe': 'Amaranthe',\n",
    "    'Two Steps From Hell': 'Two Steps from Hell',\n",
    "    'Two Steps From Hell, Thomas Bergersen': 'Two Steps from Hell',\n",
    "    'Two Steps From Hell, Nick Phoenix': 'Two Steps from Hell',\n",
    "    'Андреас Вальдетофт': 'Andreas Waldetoft',\n",
    "    'Andreas Waltedoft': 'Andreas Waldetoft',\n",
    "    'Paradox Interactive': 'Andreas Waldetoft',\n",
    "    'Meyer': 'Andreas Waldetoft',\n",
    "    'Saxon': 'Sabaton',\n",
    "    'Visions Of Atlantis': 'Visions of Atlantis',\n",
    "    'Leaves´ Eyes': 'Leaves\\' Eyes',\n",
    "    'Leaves \\' Eyes': 'Leaves\\' Eyes'\n",
    "}\n",
    "\n",
    "FIX_TITLES = {\n",
    "    'inf': 'Infinity'\n",
    "}\n",
    "\n",
    "def fix_artist(artist):\n",
    "    return FIX_ARTISTS.get(artist, artist)\n",
    "\n",
    "def fix_title(title):\n",
    "    title = re.sub(r\" ?\\([^)]+\\)\", \"\", title)\n",
    "    title = re.sub(r\"Listened to\", \"\", title)\n",
    "    title = title.strip()\n",
    "    return FIX_TITLES.get(title, title)\n",
    "\n",
    "def check_title(title):\n",
    "    return \"Skipped\" not in title and \"Google Play Music\" not in title\n",
    "\n",
    "with open(DATA, 'r') as f:\n",
    "    data = json.load(f)"
   ]
  },
  {
   "cell_type": "code",
   "execution_count": null,
   "id": "25e92576",
   "metadata": {},
   "outputs": [],
   "source": [
    "df = pd.DataFrame(data)\n",
    "df"
   ]
  },
  {
   "cell_type": "code",
   "execution_count": null,
   "id": "ff8d70a1",
   "metadata": {},
   "outputs": [],
   "source": [
    "df['artist'] = df['description'].apply(fix_artist)\n",
    "df['title'] = df['title'].apply(fix_title)\n",
    "df = df[[check_title(t) for t in df.title]]\n",
    "df = df.reset_index(drop=True)\n",
    "df = df[['artist', 'title', 'time']]\n",
    "df"
   ]
  },
  {
   "cell_type": "markdown",
   "id": "a61207fb",
   "metadata": {},
   "source": [
    "# Tracks data"
   ]
  },
  {
   "cell_type": "code",
   "execution_count": null,
   "id": "e29444aa",
   "metadata": {},
   "outputs": [],
   "source": [
    "files = [f for f in os.listdir(TRACKS) if os.path.isfile(os.path.join(TRACKS, f))]\n",
    "\n",
    "tracks = []\n",
    "\n",
    "for file in tqdm(files):\n",
    "    df_f = pd.read_csv(os.path.join(TRACKS, file))\n",
    "    obj = df_f.to_dict(orient='index')[0]\n",
    "    tracks.append(obj)\n",
    "\n",
    "df_t = pd.DataFrame(tracks)\n",
    "df_t.head()"
   ]
  },
  {
   "cell_type": "code",
   "execution_count": null,
   "id": "61e33b90",
   "metadata": {},
   "outputs": [],
   "source": [
    "import html\n",
    "df_t['Title'] = df_t['Title'].apply(lambda t: html.unescape(str(t))).apply(fix_title)\n",
    "df_t['Album'] = df_t['Album'].apply(lambda t: html.unescape(str(t)))\n",
    "df_t['Artist'] = df_t['Artist'].apply(lambda t: html.unescape(str(t))).apply(fix_artist)\n",
    "df_t.columns = 'title', 'album', 'artist', 'duration', 'rating', 'play_count', 'removed'\n",
    "df_t = df_t.drop(['rating', 'removed'], axis=1)\n",
    "df_t.head()"
   ]
  },
  {
   "cell_type": "markdown",
   "id": "40514e1a",
   "metadata": {},
   "source": [
    "# Join listened with tracks"
   ]
  },
  {
   "cell_type": "code",
   "execution_count": null,
   "id": "32a1953b",
   "metadata": {},
   "outputs": [],
   "source": [
    "tracks_by_name = {}\n",
    "\n",
    "for track in df_t.itertuples(index=True):\n",
    "    try:\n",
    "        tracks_by_name[track.title].append(track)\n",
    "    except KeyError:\n",
    "        tracks_by_name[track.title] = [track]\n",
    "\n",
    "track_names = list(tracks_by_name.keys())"
   ]
  },
  {
   "cell_type": "code",
   "execution_count": null,
   "id": "703c869f",
   "metadata": {},
   "outputs": [],
   "source": [
    "def get_tracks(title, cutoff=0.6):\n",
    "    try:\n",
    "        track = tracks_by_name[title]\n",
    "        return track\n",
    "    except KeyError:\n",
    "        pass\n",
    "    if len(title) > 5:\n",
    "        try:\n",
    "            matches = [t for t in track_names if title in t]\n",
    "            if len(matches) > 2:\n",
    "                match = difflib.get_close_mathces(title, matches, cutoff=0.4)[0]\n",
    "            else:\n",
    "                match = matches[0]\n",
    "            return tracks_by_name[match]\n",
    "        except (StopIteration, IndexError):\n",
    "            pass\n",
    "    elif \"Instrumental\" in title:\n",
    "        title = re.sub('Instrumental', \"\", title)\n",
    "        title = re.sub('-', \"\", title)\n",
    "        title = title.strip()\n",
    "        return get_tracks(title, cutoff)\n",
    "    matches = difflib.get_close_matches(title, track_names, cutoff=cutoff)\n",
    "    try:\n",
    "        closest = matches[0]\n",
    "        return tracks_by_name[closest]\n",
    "    except IndexError:\n",
    "        return get_tracks(title, cutoff=0.3)\n",
    "    return None\n",
    "\n",
    "def pick_track(tracks, track_listened, id_series):\n",
    "    same_artists = [t for t in tracks if t.artist == track_listened.artist]\n",
    "    if len(same_artists) == 0:\n",
    "        same_artists = [t for t in tracks if t.artist == 'nan']\n",
    "        if len(same_artists) == 0:\n",
    "            return None\n",
    "    if len(same_artists) == 1:\n",
    "        return same_artists[0]\n",
    "    by_album = {t.album: t for t in same_artists}\n",
    "    try:\n",
    "        previous_track = df_t.iloc[id_series[len(id_series) - 1]]\n",
    "        if previous_track.artist == track_listened.artist:\n",
    "            return by_album[previous_track.album]\n",
    "    except (KeyError, TypeError):\n",
    "        pass\n",
    "    return same_artists[0]\n",
    "\n",
    "id_series = deque()\n",
    "not_matched = []\n",
    "NotMatched = namedtuple('NotMatched', ['track', 'candidates'])\n",
    "\n",
    "for track_listened in tqdm(list(df.itertuples(index=True))):\n",
    "    tracks = get_tracks(track_listened.title)\n",
    "    if tracks is None:\n",
    "        id_series.append(None)\n",
    "        not_matched.append(NotMatched(track_listened))\n",
    "        continue\n",
    "    track = pick_track(tracks, track_listened, id_series)\n",
    "    if track is None:\n",
    "        id_series.append(None)\n",
    "        not_matched.append(NotMatched(track_listened, tracks))\n",
    "        continue\n",
    "    id_series.append(track.Index)"
   ]
  },
  {
   "cell_type": "code",
   "execution_count": null,
   "id": "54d850e6",
   "metadata": {},
   "outputs": [],
   "source": [
    "df_nm = pd.DataFrame([t.track for t in not_matched])\n",
    "# with pd.option_context('display.max_rows', 500):\n",
    "    # display(df_nm)\n",
    "display(df_nm)"
   ]
  },
  {
   "cell_type": "code",
   "execution_count": null,
   "id": "e596b8d2",
   "metadata": {},
   "outputs": [],
   "source": [
    "df['song_id'] = id_series"
   ]
  },
  {
   "cell_type": "markdown",
   "id": "84d72d26",
   "metadata": {},
   "source": [
    "# To DB"
   ]
  },
  {
   "cell_type": "code",
   "execution_count": null,
   "id": "2bbdd96c",
   "metadata": {},
   "outputs": [],
   "source": [
    "from smo_data.api import DBConn\n",
    "\n",
    "from models import Base, AlbumSong, MusicListened\n",
    "\n",
    "DBConn()"
   ]
  },
  {
   "cell_type": "code",
   "execution_count": null,
   "id": "695f55c4",
   "metadata": {},
   "outputs": [],
   "source": [
    "# DBConn.engine.execute(f'DROP SCHEMA IF EXISTS {SCHEMA} CASCADE')\n",
    "DBConn.engine.execute(f'CREATE SCHEMA IF NOT EXISTS google')\n",
    "DBConn.engine.execute('DROP TABLE IF EXISTS \"google\".\"AlbumSong\" CASCADE')\n",
    "DBConn.engine.execute('DROP TABLE IF EXISTS \"google\".\"MusicListened\" CASCADE')\n",
    "Base.metadata.create_all(DBConn.engine)"
   ]
  },
  {
   "cell_type": "code",
   "execution_count": null,
   "id": "434b147a",
   "metadata": {},
   "outputs": [],
   "source": [
    "with DBConn.get_session() as db:\n",
    "    for track in df_t.itertuples(index=True):\n",
    "        track = track._asdict()\n",
    "        track['id'] = track['Index']\n",
    "        del track['Index']\n",
    "\n",
    "        song = AlbumSong(**track)\n",
    "        db.add(song)\n",
    "    db.commit()\n",
    "\n",
    "    for track in df.itertuples(index=False):\n",
    "        track = track._asdict()\n",
    "\n",
    "        ml = MusicListened(**track)\n",
    "        db.add(ml)\n",
    "\n",
    "    db.commit()"
   ]
  },
  {
   "cell_type": "code",
   "execution_count": null,
   "id": "206d7011",
   "metadata": {},
   "outputs": [],
   "source": []
  }
 ],
 "metadata": {
  "jupytext": {
   "encoding": "# -*- coding: utf-8 -*-"
  },
  "kernelspec": {
   "display_name": "Python 3",
   "language": "python",
   "name": "python3"
  }
 },
 "nbformat": 4,
 "nbformat_minor": 5
}