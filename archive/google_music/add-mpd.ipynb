{
 "cells": [
  {
   "cell_type": "code",
   "execution_count": null,
   "id": "457885db",
   "metadata": {},
   "outputs": [],
   "source": [
    "import pandas as pd\n",
    "import json\n",
    "import os\n",
    "import numpy as np\n",
    "import difflib\n",
    "import re\n",
    "import sys\n",
    "\n",
    "sys.path.append('../..')\n",
    "\n",
    "from tqdm import tqdm\n",
    "from collections import deque, namedtuple\n",
    "\n",
    "from IPython.display import display\n",
    "from IPython.core.debugger import set_trace"
   ]
  },
  {
   "cell_type": "markdown",
   "id": "bc4f970d",
   "metadata": {},
   "source": [
    "# Listened log"
   ]
  },
  {
   "cell_type": "code",
   "execution_count": null,
   "id": "db50e058",
   "metadata": {},
   "outputs": [],
   "source": [
    "DATA = './source/music.json'\n",
    "\n",
    "FIX_ARTISTS = {\n",
    "    'Tarja Turunen': 'Tarja',\n",
    "    'Thomas Bergersen': 'Two Steps from Hell',\n",
    "    'Томас Бергерсен': 'Two Steps from Hell',\n",
    "    'Two Steps from Hell & Thomas Bergersen': 'Two Steps from Hell',\n",
    "    'Tribe': 'Amaranthe',\n",
    "    'Two Steps From Hell': 'Two Steps from Hell',\n",
    "    'Two Steps From Hell, Thomas Bergersen': 'Two Steps from Hell',\n",
    "    'Two Steps From Hell, Nick Phoenix': 'Two Steps from Hell',\n",
    "    'Андреас Вальдетофт': 'Andreas Waldetoft',\n",
    "    'Andreas Waltedoft': 'Andreas Waldetoft',\n",
    "    'Paradox Interactive': 'Andreas Waldetoft',\n",
    "    'Meyer': 'Andreas Waldetoft',\n",
    "    'Saxon': 'Sabaton',\n",
    "    'Visions Of Atlantis': 'Visions of Atlantis',\n",
    "    'Leaves´ Eyes': 'Leaves\\' Eyes',\n",
    "    'Leaves \\' Eyes': 'Leaves\\' Eyes',\n",
    "    'Russell Allen & Anette Olzon': 'Allen/Olzon'\n",
    "}\n",
    "\n",
    "FIX_TITLES = {\n",
    "    'inf': 'infinity'\n",
    "}\n",
    "\n",
    "def fix_artist(artist):\n",
    "    return FIX_ARTISTS.get(artist, artist)\n",
    "\n",
    "def fix_title(title):\n",
    "    title = title.lower()\n",
    "    if not re.match('.*(orchestral|instrumental).*', title):\n",
    "        title = re.sub(r\" ?\\([^)]+\\)\", \"\", title)\n",
    "    title = re.sub(r\"listened to\", \"\", title)\n",
    "    title = re.sub(r\"(:|~|/).*\", \"\", title)\n",
    "    title = title.strip()\n",
    "    return FIX_TITLES.get(title, title)\n",
    "\n",
    "def check_title(title):\n",
    "    return \"skipped\" not in title and \"google play music\" not in title\n",
    "\n",
    "with open(DATA, 'r') as f:\n",
    "    data = json.load(f)"
   ]
  },
  {
   "cell_type": "code",
   "execution_count": null,
   "id": "e6da1bb0",
   "metadata": {},
   "outputs": [],
   "source": [
    "df = pd.DataFrame(data)\n",
    "df"
   ]
  },
  {
   "cell_type": "code",
   "execution_count": null,
   "id": "cc3fb62d",
   "metadata": {},
   "outputs": [],
   "source": [
    "df['artist'] = df['description'].apply(fix_artist)\n",
    "df['title'] = df['title'].apply(fix_title)\n",
    "df = df[[check_title(t) for t in df.title]]\n",
    "df = df.reset_index(drop=True)\n",
    "df = df[['artist', 'title', 'time']]\n",
    "df"
   ]
  },
  {
   "cell_type": "markdown",
   "id": "b32a9d76",
   "metadata": {},
   "source": [
    "# Tracks data"
   ]
  },
  {
   "cell_type": "code",
   "execution_count": null,
   "id": "a9b80904",
   "metadata": {},
   "outputs": [],
   "source": [
    "from sqrt_data.api import DBConn\n",
    "from models import Base, MpdSong, SongListened\n",
    "\n",
    "DBConn()"
   ]
  },
  {
   "cell_type": "code",
   "execution_count": null,
   "id": "e9c17e02",
   "metadata": {},
   "outputs": [],
   "source": [
    "data = deque()\n",
    "\n",
    "with DBConn.get_session() as db:\n",
    "    for track in db.query(MpdSong).all():\n",
    "        data.append({\n",
    "            'title': track.title,\n",
    "            'id': track.id,\n",
    "            'artist': track.album_artist,\n",
    "            'album': track.album\n",
    "        })\n",
    "\n",
    "df_t = pd.DataFrame(data)\n",
    "df_t.title = df_t.title.apply(fix_title)\n",
    "df_t.artist = df_t.artist.apply(fix_artist)\n",
    "df_t = df_t.set_index('id')\n",
    "df_t.head()"
   ]
  },
  {
   "cell_type": "markdown",
   "id": "eb0fec04",
   "metadata": {},
   "source": [
    "# Join listened with tracks"
   ]
  },
  {
   "cell_type": "code",
   "execution_count": null,
   "id": "0e693f07",
   "metadata": {},
   "outputs": [],
   "source": [
    "tracks_by_name = {}\n",
    "\n",
    "for track in df_t.itertuples(index=True):\n",
    "    try:\n",
    "        tracks_by_name[track.title].append(track)\n",
    "    except KeyError:\n",
    "        tracks_by_name[track.title] = [track]\n",
    "\n",
    "track_names = list(tracks_by_name.keys())"
   ]
  },
  {
   "cell_type": "code",
   "execution_count": null,
   "id": "34571c47",
   "metadata": {},
   "outputs": [],
   "source": [
    "def get_tracks(title, cutoff=0.6):\n",
    "    try:\n",
    "        track = tracks_by_name[title]\n",
    "        return track\n",
    "    except KeyError:\n",
    "        pass\n",
    "    if len(title) > 5:\n",
    "        try:\n",
    "            matches = [t for t in track_names if title in t or t in title]\n",
    "            if len(matches) > 1:\n",
    "                match = difflib.get_close_matches(title, matches, cutoff=0.4)[0]\n",
    "            else:\n",
    "                match = matches[0]\n",
    "            return tracks_by_name[match]\n",
    "        except (StopIteration, IndexError):\n",
    "            pass\n",
    "    elif \"Instrumental\" in title:\n",
    "        title = re.sub('Instrumental', \"\", title)\n",
    "        title = re.sub('-', \"\", title)\n",
    "        title = title.strip()\n",
    "        return get_tracks(title, cutoff)\n",
    "    matches = difflib.get_close_matches(title, track_names, cutoff=cutoff)\n",
    "    try:\n",
    "        closest = matches[0]\n",
    "        return tracks_by_name[closest]\n",
    "    except IndexError:\n",
    "        return get_tracks(title, cutoff=0.3)\n",
    "    return None\n",
    "\n",
    "def pick_track(tracks, track_listened, id_series):\n",
    "    same_artists = [t for t in tracks if t.artist == track_listened.artist]\n",
    "    if len(same_artists) == 0:\n",
    "        same_artists = [t for t in tracks if t.artist == 'nan']\n",
    "        if len(same_artists) == 0:\n",
    "            return None\n",
    "    if len(same_artists) == 1:\n",
    "        return same_artists[0]\n",
    "    by_album = {t.album: t for t in same_artists}\n",
    "    try:\n",
    "        previous_track = df_t.loc[id_series[len(id_series) - 1]]\n",
    "        if previous_track.artist == track_listened.artist:\n",
    "            return by_album[previous_track.album]\n",
    "    except (KeyError, TypeError):\n",
    "        pass\n",
    "    return same_artists[0]\n",
    "\n",
    "id_series = deque()\n",
    "not_matched = []\n",
    "NotMatched = namedtuple('NotMatched', ['track', 'candidates'])\n",
    "\n",
    "for track_listened in tqdm(list(df.itertuples(index=True))):\n",
    "    tracks = get_tracks(track_listened.title)\n",
    "    if tracks is None:\n",
    "        id_series.append(None)\n",
    "        not_matched.append(NotMatched(track_listened))\n",
    "        continue\n",
    "    track = pick_track(tracks, track_listened, id_series)\n",
    "    if track is None:\n",
    "        id_series.append(None)\n",
    "        not_matched.append(NotMatched(track_listened, tracks))\n",
    "        continue\n",
    "    id_series.append(track.Index)"
   ]
  },
  {
   "cell_type": "code",
   "execution_count": null,
   "id": "b6e2701a",
   "metadata": {
    "jupyter": {
     "outputs_hidden": true
    }
   },
   "outputs": [],
   "source": [
    "df['id'] = id_series\n",
    "df_nm = pd.DataFrame([t.track for t in not_matched])\n",
    "# display(len(id_series))\n",
    "\n",
    "with pd.option_context('display.max_rows', 1000):\n",
    "    display(df_nm)"
   ]
  },
  {
   "cell_type": "code",
   "execution_count": null,
   "id": "ef1c7219",
   "metadata": {},
   "outputs": [],
   "source": [
    "data = list(df.itertuples(index=False))\n",
    "with DBConn.get_session() as db:\n",
    "    for record in tqdm(data):\n",
    "        if record.id is not None:\n",
    "            listened = SongListened(song_id=record.id, time=record.time)\n",
    "            db.merge(listened)\n",
    "    db.commit()"
   ]
  }
 ],
 "metadata": {
  "jupytext": {
   "encoding": "# -*- coding: utf-8 -*-"
  },
  "kernelspec": {
   "display_name": "Python 3",
   "language": "python",
   "name": "python3"
  }
 },
 "nbformat": 4,
 "nbformat_minor": 5
}