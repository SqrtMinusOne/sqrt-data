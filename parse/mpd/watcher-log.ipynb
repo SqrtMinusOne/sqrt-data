{
 "cells": [
  {
   "cell_type": "code",
   "execution_count": 1,
   "metadata": {},
   "outputs": [],
   "source": [
    "import pandas as pd\n",
    "import sys\n",
    "import dateutil\n",
    "from tqdm import tqdm\n",
    "\n",
    "sys.path.append('../..')\n",
    "pd.set_option('display.max_columns', 500)"
   ]
  },
  {
   "cell_type": "code",
   "execution_count": 2,
   "metadata": {},
   "outputs": [
    {
     "data": {
      "text/html": [
       "<div>\n",
       "<style scoped>\n",
       "    .dataframe tbody tr th:only-of-type {\n",
       "        vertical-align: middle;\n",
       "    }\n",
       "\n",
       "    .dataframe tbody tr th {\n",
       "        vertical-align: top;\n",
       "    }\n",
       "\n",
       "    .dataframe thead th {\n",
       "        text-align: right;\n",
       "    }\n",
       "</style>\n",
       "<table border=\"1\" class=\"dataframe\">\n",
       "  <thead>\n",
       "    <tr style=\"text-align: right;\">\n",
       "      <th></th>\n",
       "      <th>file</th>\n",
       "      <th>artist</th>\n",
       "      <th>album_artist</th>\n",
       "      <th>title</th>\n",
       "      <th>album</th>\n",
       "      <th>time</th>\n",
       "      <th>type</th>\n",
       "      <th>musicbrainz_albumid</th>\n",
       "      <th>musicbrainz_artistid</th>\n",
       "      <th>musicbrainz_trackid</th>\n",
       "    </tr>\n",
       "  </thead>\n",
       "  <tbody>\n",
       "    <tr>\n",
       "      <th>0</th>\n",
       "      <td>After Forever/2007 - After Forever/01 - Discor...</td>\n",
       "      <td>After Forever</td>\n",
       "      <td>After Forever</td>\n",
       "      <td>Discord</td>\n",
       "      <td>After Forever</td>\n",
       "      <td>2020-07-25 21:59:07</td>\n",
       "      <td>skipped</td>\n",
       "      <td>4e7791ec-ebb2-43d8-b6f6-10d6b89aea7e</td>\n",
       "      <td>6b966946-5274-4e3d-aabb-7563814d805f</td>\n",
       "      <td>1be2a709-9249-4685-998f-e5a58333823e</td>\n",
       "    </tr>\n",
       "  </tbody>\n",
       "</table>\n",
       "</div>"
      ],
      "text/plain": [
       "                                                file         artist  \\\n",
       "0  After Forever/2007 - After Forever/01 - Discor...  After Forever   \n",
       "\n",
       "    album_artist    title          album                 time     type  \\\n",
       "0  After Forever  Discord  After Forever  2020-07-25 21:59:07  skipped   \n",
       "\n",
       "                    musicbrainz_albumid                  musicbrainz_artistid  \\\n",
       "0  4e7791ec-ebb2-43d8-b6f6-10d6b89aea7e  6b966946-5274-4e3d-aabb-7563814d805f   \n",
       "\n",
       "                    musicbrainz_trackid  \n",
       "0  1be2a709-9249-4685-998f-e5a58333823e  "
      ]
     },
     "execution_count": 2,
     "metadata": {},
     "output_type": "execute_result"
    }
   ],
   "source": [
    "LOG = './source/mpd-watcher-log.csv'\n",
    "df = pd.read_csv(LOG)\n",
    "df.head(1)"
   ]
  },
  {
   "cell_type": "code",
   "execution_count": 3,
   "metadata": {},
   "outputs": [
    {
     "data": {
      "text/plain": [
       "<api.db.DBConn at 0x7f7dcb4a8310>"
      ]
     },
     "execution_count": 3,
     "metadata": {},
     "output_type": "execute_result"
    }
   ],
   "source": [
    "from api import DBConn\n",
    "from models import Base, MpdSong, SongListened\n",
    "\n",
    "DBConn()"
   ]
  },
  {
   "cell_type": "code",
   "execution_count": 4,
   "metadata": {},
   "outputs": [],
   "source": [
    "DBConn.engine.execute('CREATE SCHEMA IF NOT EXISTS mpd')\n",
    "tables = []\n",
    "for name, table in Base.metadata.tables.items():\n",
    "    if table.schema == 'mpd':\n",
    "        tables.append(table)\n",
    "Base.metadata.create_all(DBConn.engine, tables)"
   ]
  },
  {
   "cell_type": "code",
   "execution_count": 5,
   "metadata": {},
   "outputs": [
    {
     "name": "stderr",
     "output_type": "stream",
     "text": [
      "100%|██████████| 296/296 [02:48<00:00,  1.75it/s]\n"
     ]
    }
   ],
   "source": [
    "records = df.to_dict(orient='records')\n",
    "\n",
    "with DBConn.get_session() as db:\n",
    "    for record in tqdm(records):\n",
    "        if record['type'] == 'skipped':\n",
    "            continue\n",
    "        song = db.query(MpdSong).filter_by(file=record['file']).first()\n",
    "        listened = SongListened(song_id=song.id, time=record['time'])\n",
    "        db.merge(listened)\n",
    "    db.commit()"
   ]
  },
  {
   "cell_type": "code",
   "execution_count": null,
   "metadata": {},
   "outputs": [],
   "source": []
  }
 ],
 "metadata": {
  "kernelspec": {
   "display_name": "Python 3",
   "language": "python",
   "name": "python3"
  },
  "language_info": {
   "codemirror_mode": {
    "name": "ipython",
    "version": 3
   },
   "file_extension": ".py",
   "mimetype": "text/x-python",
   "name": "python",
   "nbconvert_exporter": "python",
   "pygments_lexer": "ipython3",
   "version": "3.8.5"
  }
 },
 "nbformat": 4,
 "nbformat_minor": 4
}
