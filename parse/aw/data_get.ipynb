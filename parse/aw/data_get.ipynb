{
 "cells": [
  {
   "cell_type": "code",
   "execution_count": 1,
   "metadata": {},
   "outputs": [],
   "source": [
    "from datetime import datetime\n",
    "from IPython.display import display\n",
    "from collections import deque\n",
    "\n",
    "import requests\n",
    "import pandas as pd"
   ]
  },
  {
   "cell_type": "code",
   "execution_count": 2,
   "metadata": {},
   "outputs": [],
   "source": [
    "API = 'http://localhost:5600/api'\n",
    "last_updated = {}"
   ]
  },
  {
   "cell_type": "code",
   "execution_count": 3,
   "metadata": {},
   "outputs": [],
   "source": [
    "r = requests.get(f'{API}/0/buckets')\n",
    "buckets = r.json()"
   ]
  },
  {
   "cell_type": "code",
   "execution_count": 4,
   "metadata": {},
   "outputs": [
    {
     "data": {
      "text/plain": [
       "[{'id': 'aw-watcher-afk_pdsk',\n",
       "  'created': '2020-07-24T16:26:53.815234+00:00',\n",
       "  'name': None,\n",
       "  'type': 'afkstatus',\n",
       "  'client': 'aw-watcher-afk',\n",
       "  'hostname': 'pdsk',\n",
       "  'last_updated': '2020-08-26T09:07:34.824000+00:00'},\n",
       " {'id': 'aw-watcher-afk_pavel-dsk',\n",
       "  'created': '2020-06-10T16:39:16.423874+00:00',\n",
       "  'name': None,\n",
       "  'type': 'afkstatus',\n",
       "  'client': 'aw-watcher-afk',\n",
       "  'hostname': 'pavel-dsk',\n",
       "  'last_updated': '2020-07-15T07:42:24.178000+00:00'}]"
      ]
     },
     "metadata": {},
     "output_type": "display_data"
    },
    {
     "data": {
      "text/plain": [
       "[{'id': 'aw-watcher-window_pdsk',\n",
       "  'created': '2020-07-24T16:26:53.677257+00:00',\n",
       "  'name': None,\n",
       "  'type': 'currentwindow',\n",
       "  'client': 'aw-watcher-window',\n",
       "  'hostname': 'pdsk',\n",
       "  'last_updated': '2020-08-26T09:07:34.111000+00:00'},\n",
       " {'id': 'aw-watcher-window_pavel-dsk',\n",
       "  'created': '2020-06-10T16:39:16.280454+00:00',\n",
       "  'name': None,\n",
       "  'type': 'currentwindow',\n",
       "  'client': 'aw-watcher-window',\n",
       "  'hostname': 'pavel-dsk',\n",
       "  'last_updated': '2020-07-15T07:42:23.336000+00:00'}]"
      ]
     },
     "metadata": {},
     "output_type": "display_data"
    }
   ],
   "source": [
    "afk_buckets = [b for b in buckets.values() if b['type'] == 'afkstatus']\n",
    "title_buckets = [b for b in buckets.values() if b['type'] == 'currentwindow']\n",
    "display(afk_buckets)\n",
    "display(title_buckets)"
   ]
  },
  {
   "cell_type": "code",
   "execution_count": 9,
   "metadata": {},
   "outputs": [
    {
     "data": {
      "text/html": [
       "<div>\n",
       "<style scoped>\n",
       "    .dataframe tbody tr th:only-of-type {\n",
       "        vertical-align: middle;\n",
       "    }\n",
       "\n",
       "    .dataframe tbody tr th {\n",
       "        vertical-align: top;\n",
       "    }\n",
       "\n",
       "    .dataframe thead th {\n",
       "        text-align: right;\n",
       "    }\n",
       "</style>\n",
       "<table border=\"1\" class=\"dataframe\">\n",
       "  <thead>\n",
       "    <tr style=\"text-align: right;\">\n",
       "      <th></th>\n",
       "      <th>id</th>\n",
       "      <th>duration</th>\n",
       "      <th>timestamp</th>\n",
       "      <th>status</th>\n",
       "    </tr>\n",
       "  </thead>\n",
       "  <tbody>\n",
       "    <tr>\n",
       "      <th>0</th>\n",
       "      <td>203897</td>\n",
       "      <td>2326.279</td>\n",
       "      <td>2020-08-26 08:30:44.078000+00:00</td>\n",
       "      <td>not-afk</td>\n",
       "    </tr>\n",
       "    <tr>\n",
       "      <th>1</th>\n",
       "      <td>203426</td>\n",
       "      <td>4014.610</td>\n",
       "      <td>2020-08-25 17:35:42.773000+00:00</td>\n",
       "      <td>not-afk</td>\n",
       "    </tr>\n",
       "    <tr>\n",
       "      <th>2</th>\n",
       "      <td>203420</td>\n",
       "      <td>205.334</td>\n",
       "      <td>2020-08-25 17:32:17.439000+00:00</td>\n",
       "      <td>afk</td>\n",
       "    </tr>\n",
       "    <tr>\n",
       "      <th>3</th>\n",
       "      <td>202920</td>\n",
       "      <td>4481.431</td>\n",
       "      <td>2020-08-25 16:17:36.008000+00:00</td>\n",
       "      <td>not-afk</td>\n",
       "    </tr>\n",
       "    <tr>\n",
       "      <th>4</th>\n",
       "      <td>202918</td>\n",
       "      <td>1487.191</td>\n",
       "      <td>2020-08-25 15:52:48.817000+00:00</td>\n",
       "      <td>afk</td>\n",
       "    </tr>\n",
       "    <tr>\n",
       "      <th>...</th>\n",
       "      <td>...</td>\n",
       "      <td>...</td>\n",
       "      <td>...</td>\n",
       "      <td>...</td>\n",
       "    </tr>\n",
       "    <tr>\n",
       "      <th>439</th>\n",
       "      <td>841</td>\n",
       "      <td>4281.695</td>\n",
       "      <td>2020-07-24 15:27:41.067000+00:00</td>\n",
       "      <td>not-afk</td>\n",
       "    </tr>\n",
       "    <tr>\n",
       "      <th>440</th>\n",
       "      <td>840</td>\n",
       "      <td>1996.156</td>\n",
       "      <td>2020-07-24 14:54:24.911000+00:00</td>\n",
       "      <td>afk</td>\n",
       "    </tr>\n",
       "    <tr>\n",
       "      <th>441</th>\n",
       "      <td>837</td>\n",
       "      <td>20.169</td>\n",
       "      <td>2020-07-24 14:54:04.742000+00:00</td>\n",
       "      <td>not-afk</td>\n",
       "    </tr>\n",
       "    <tr>\n",
       "      <th>442</th>\n",
       "      <td>836</td>\n",
       "      <td>281.157</td>\n",
       "      <td>2020-07-24 14:49:23.585000+00:00</td>\n",
       "      <td>afk</td>\n",
       "    </tr>\n",
       "    <tr>\n",
       "      <th>443</th>\n",
       "      <td>3</td>\n",
       "      <td>4949.834</td>\n",
       "      <td>2020-07-24 13:26:53.751000+00:00</td>\n",
       "      <td>not-afk</td>\n",
       "    </tr>\n",
       "  </tbody>\n",
       "</table>\n",
       "<p>444 rows × 4 columns</p>\n",
       "</div>"
      ],
      "text/plain": [
       "         id  duration                        timestamp   status\n",
       "0    203897  2326.279 2020-08-26 08:30:44.078000+00:00  not-afk\n",
       "1    203426  4014.610 2020-08-25 17:35:42.773000+00:00  not-afk\n",
       "2    203420   205.334 2020-08-25 17:32:17.439000+00:00      afk\n",
       "3    202920  4481.431 2020-08-25 16:17:36.008000+00:00  not-afk\n",
       "4    202918  1487.191 2020-08-25 15:52:48.817000+00:00      afk\n",
       "..      ...       ...                              ...      ...\n",
       "439     841  4281.695 2020-07-24 15:27:41.067000+00:00  not-afk\n",
       "440     840  1996.156 2020-07-24 14:54:24.911000+00:00      afk\n",
       "441     837    20.169 2020-07-24 14:54:04.742000+00:00  not-afk\n",
       "442     836   281.157 2020-07-24 14:49:23.585000+00:00      afk\n",
       "443       3  4949.834 2020-07-24 13:26:53.751000+00:00  not-afk\n",
       "\n",
       "[444 rows x 4 columns]"
      ]
     },
     "execution_count": 9,
     "metadata": {},
     "output_type": "execute_result"
    }
   ],
   "source": [
    "def get_data(bucket_id, last_updated=None):\n",
    "    params = {}\n",
    "    if last_updated:\n",
    "        params['start'] = last_updated\n",
    "    r = requests.get(f'{API}/0/buckets/{bucket_id}/events')\n",
    "    data = deque()\n",
    "    for event in r.json():\n",
    "        data.append({\n",
    "            'id': event['id'],\n",
    "            'duration': event['duration'],\n",
    "            'timestamp': pd.Timestamp(event['timestamp']),\n",
    "            **event['data']\n",
    "        })\n",
    "    df = pd.DataFrame(data)\n",
    "    return df\n",
    "\n",
    "get_data('aw-watcher-afk_pdsk', '2020-07-23T16:26:53.815234+00:00')"
   ]
  },
  {
   "cell_type": "code",
   "execution_count": null,
   "metadata": {},
   "outputs": [],
   "source": []
  }
 ],
 "metadata": {
  "kernelspec": {
   "display_name": "Python 3",
   "language": "python",
   "name": "python3"
  },
  "language_info": {
   "codemirror_mode": {
    "name": "ipython",
    "version": 3
   },
   "file_extension": ".py",
   "mimetype": "text/x-python",
   "name": "python",
   "nbconvert_exporter": "python",
   "pygments_lexer": "ipython3",
   "version": "3.7.7"
  }
 },
 "nbformat": 4,
 "nbformat_minor": 4
}
