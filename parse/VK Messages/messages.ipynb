{
 "cells": [
  {
   "cell_type": "code",
   "execution_count": null,
   "metadata": {},
   "outputs": [],
   "source": [
    "import glob\n",
    "import pandas as pd\n",
    "import os\n",
    "import sys\n",
    "\n",
    "from bs4 import BeautifulSoup\n",
    "from collections import deque\n",
    "from dateutil import parser\n",
    "from IPython.core.debugger import set_trace\n",
    "from tqdm import tqdm\n",
    "\n",
    "sys.path.append('../..')"
   ]
  },
  {
   "cell_type": "code",
   "execution_count": null,
   "metadata": {},
   "outputs": [],
   "source": [
    "MESSAGES_DIR = 'source/messages'\n",
    "AUTHOR = 'Pavel Korytov'\n",
    "\n",
    "MONTHS = 'янв', 'фев', 'мар', 'апр', 'мая', 'июн', \\\n",
    "    'июл', 'авг', 'сен', 'окт', 'ноя', 'дек'"
   ]
  },
  {
   "cell_type": "code",
   "execution_count": null,
   "metadata": {},
   "outputs": [],
   "source": [
    "def parse_date_russian(date):\n",
    "    is_edited = False\n",
    "    if date.endswith(' (ред.)'):\n",
    "        is_edited = True\n",
    "        date = date[:-7]\n",
    "    day, month, year, _, time = date.split()\n",
    "        \n",
    "    month = MONTHS.index(month) + 1\n",
    "    date = parser.parse(time).replace(day=int(day), month=month, year=int(year))\n",
    "    return is_edited, date"
   ]
  },
  {
   "cell_type": "code",
   "execution_count": null,
   "metadata": {},
   "outputs": [],
   "source": [
    "def parse_date_english(date):\n",
    "    is_edited = False\n",
    "    if date.endswith(' (edited)'):\n",
    "        is_edited = True\n",
    "        date = date[:-9]\n",
    "    date = date[2:]\n",
    "    date = parser.parse(date)\n",
    "    return is_edited, date\n",
    "\n",
    "parse_date_english('at 5:52:25 pm on Dec 29, 2019 (edited)')"
   ]
  },
  {
   "cell_type": "code",
   "execution_count": null,
   "metadata": {},
   "outputs": [],
   "source": [
    "def parse_file(path):\n",
    "    with open(path, 'r', encoding='windows-1251') as file:\n",
    "        soup = BeautifulSoup(file)\n",
    "        \n",
    "        content = soup.html.body.div\n",
    "        name = content.find(class_='page_content page_block').h2.div.find(class_='_header_inner') \\\n",
    "            .find('div', class_='ui_crumb').text\n",
    "        items = content.find(class_='page_content page_block').find(class_='wrap_page_content')\n",
    "        \n",
    "        senders, recipients, dates, messages, edited = deque(), deque(), deque(), deque(), deque()\n",
    "        \n",
    "        for item in items.find_all(class_='item'):\n",
    "            header = item.div.find(class_='message__header')\n",
    "            author, date = header.text.split(', ', 1)\n",
    "            if author == 'You':\n",
    "                author, recipient = AUTHOR, name\n",
    "            else:\n",
    "                recipient = AUTHOR\n",
    "            \n",
    "            is_edited, date = parse_date_english(date)\n",
    "            message_div = item.div.find('div', class_='')\n",
    "            message = ''\n",
    "            for content in message_div.contents:\n",
    "                if content.name is None:\n",
    "                    if message:\n",
    "                        message += '\\n' + content\n",
    "                    else:\n",
    "                        message += content\n",
    "            \n",
    "            if message:\n",
    "                senders.append(author)\n",
    "                recipients.append(recipient)\n",
    "                dates.append(date)\n",
    "                messages.append(message)\n",
    "                edited.append(is_edited)\n",
    "        \n",
    "        return pd.DataFrame({\n",
    "            \"sender\": senders,\n",
    "            \"recepient\": recipients,\n",
    "            \"message\": messages,\n",
    "            \"date\": dates,\n",
    "            \"is_edited\": edited\n",
    "        }), name\n",
    "\n",
    "df, name = parse_file('source/messages/2000000010/messages0.html')\n",
    "display(df)\n",
    "display(name)"
   ]
  },
  {
   "cell_type": "code",
   "execution_count": null,
   "metadata": {},
   "outputs": [],
   "source": [
    "def fix_group(df, name):\n",
    "    recepients = df.recepient.unique()\n",
    "    df.sender = df.sender.apply(lambda sender: AUTHOR if sender == AUTHOR else name)\n",
    "    return df\n",
    "\n",
    "fix_group(df, name)"
   ]
  },
  {
   "cell_type": "code",
   "execution_count": null,
   "metadata": {},
   "outputs": [],
   "source": [
    "from api import DBConn\n",
    "from models import VkMessage, VkUser, Base\n",
    "\n",
    "DBConn()\n",
    "\n",
    "DBConn.engine.execute('DROP SCHEMA IF EXISTS vk CASCADE')\n",
    "DBConn.engine.execute('CREATE SCHEMA vk')\n",
    "tables = []\n",
    "for name, table in Base.metadata.tables.items():\n",
    "    if table.schema == 'vk':\n",
    "        tables.append(table)\n",
    "Base.metadata.create_all(DBConn.engine, tables)"
   ]
  },
  {
   "cell_type": "code",
   "execution_count": null,
   "metadata": {},
   "outputs": [],
   "source": [
    "def parse_directory(path):\n",
    "    files = sorted([file for file in os.listdir(path) if file.endswith('html')])\n",
    "    df = pd.DataFrame(columns=['sender', 'recipient', 'message', 'date', 'is_edited'])\n",
    "    for file in tqdm(files, desc=path):\n",
    "        df_, name = parse_file(os.path.join(path, file))\n",
    "        df = pd.concat([df, df_])\n",
    "    df = df.sort_values(by='date').reset_index(drop=True)\n",
    "    return df, name\n",
    "\n",
    "\n",
    "for file in os.listdir(MESSAGES_DIR):\n",
    "    path = os.path.join(MESSAGES_DIR, file)\n",
    "    if os.path.isdir(path):\n",
    "        id_ = file\n",
    "        if path.endswith('.ipynb_checkpoints'):\n",
    "            continue\n",
    "        df, name = parse_directory(path)\n",
    "        \n",
    "        df['target_id'] = id_\n",
    "        is_group = df.sender.nunique() > 2\n",
    "        if is_group:\n",
    "            df = fix_group(df, name)\n",
    "        with DBConn.get_session() as db:\n",
    "            user = VkUser(name=name, id=id_, is_group=is_group)\n",
    "            data = df.to_dict(orient='records')\n",
    "            db.add(user)\n",
    "            db.commit()\n",
    "            \n",
    "            db.bulk_insert_mappings(VkMessage, data)\n",
    "            db.commit()"
   ]
  }
 ],
 "metadata": {
  "kernelspec": {
   "display_name": "Python 3",
   "language": "python",
   "name": "python3"
  },
  "language_info": {
   "codemirror_mode": {
    "name": "ipython",
    "version": 3
   },
   "file_extension": ".py",
   "mimetype": "text/x-python",
   "name": "python",
   "nbconvert_exporter": "python",
   "pygments_lexer": "ipython3",
   "version": "3.7.7"
  }
 },
 "nbformat": 4,
 "nbformat_minor": 4
}
